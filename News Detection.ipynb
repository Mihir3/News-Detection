{
 "cells": [
  {
   "cell_type": "code",
   "execution_count": 2,
   "id": "d2ce1dc7",
   "metadata": {},
   "outputs": [],
   "source": [
    "import numpy as np\n",
    "import pandas as pd\n",
    "import matplotlib.pyplot as plt"
   ]
  },
  {
   "cell_type": "code",
   "execution_count": 10,
   "id": "440d9f6c",
   "metadata": {},
   "outputs": [],
   "source": [
    "True_news = pd.read_csv('/Users/payalpamnani/Desktop/News Detection/True.csv') \n",
    "Fake_news = pd.read_csv('/Users/payalpamnani/Desktop/News Detection/Fake.csv')"
   ]
  },
  {
   "cell_type": "code",
   "execution_count": 11,
   "id": "943fa893",
   "metadata": {},
   "outputs": [],
   "source": [
    "True_news['label'] = 0 \n",
    "Fake_news['label'] = 1"
   ]
  },
  {
   "cell_type": "code",
   "execution_count": 12,
   "id": "a8d1466e",
   "metadata": {},
   "outputs": [],
   "source": [
    "dataset1 = True_news[['text','label']]\n",
    "dataset2 = Fake_news[['text','label']] "
   ]
  },
  {
   "cell_type": "code",
   "execution_count": 13,
   "id": "999ec4eb",
   "metadata": {},
   "outputs": [
    {
     "data": {
      "text/plain": [
       "text     0\n",
       "label    0\n",
       "dtype: int64"
      ]
     },
     "execution_count": 13,
     "metadata": {},
     "output_type": "execute_result"
    }
   ],
   "source": [
    "dataset = pd.concat([dataset1 , dataset2])\n",
    "dataset.isnull().sum() # no null values"
   ]
  },
  {
   "cell_type": "code",
   "execution_count": 14,
   "id": "91fa6b00",
   "metadata": {},
   "outputs": [
    {
     "data": {
      "text/plain": [
       "1    23481\n",
       "0    21417\n",
       "Name: label, dtype: int64"
      ]
     },
     "execution_count": 14,
     "metadata": {},
     "output_type": "execute_result"
    }
   ],
   "source": [
    "dataset['label'].value_counts()"
   ]
  },
  {
   "cell_type": "code",
   "execution_count": 15,
   "id": "ceec5824",
   "metadata": {},
   "outputs": [],
   "source": [
    "dataset = dataset.sample(frac = 1)"
   ]
  },
  {
   "cell_type": "code",
   "execution_count": 16,
   "id": "1d5def43",
   "metadata": {},
   "outputs": [
    {
     "name": "stderr",
     "output_type": "stream",
     "text": [
      "[nltk_data] Downloading package stopwords to\n",
      "[nltk_data]     /Users/payalpamnani/nltk_data...\n",
      "[nltk_data]   Unzipping corpora/stopwords.zip.\n"
     ]
    },
    {
     "data": {
      "text/plain": [
       "True"
      ]
     },
     "execution_count": 16,
     "metadata": {},
     "output_type": "execute_result"
    }
   ],
   "source": [
    "import nltk\n",
    "nltk.download('stopwords')"
   ]
  },
  {
   "cell_type": "code",
   "execution_count": 18,
   "id": "60783c15",
   "metadata": {},
   "outputs": [],
   "source": [
    "import re\n",
    "from nltk.corpus import stopwords\n",
    "from nltk.stem import WordNetLemmatizer"
   ]
  },
  {
   "cell_type": "code",
   "execution_count": 19,
   "id": "3299dd8f",
   "metadata": {},
   "outputs": [],
   "source": [
    "ps = WordNetLemmatizer()"
   ]
  },
  {
   "cell_type": "code",
   "execution_count": 20,
   "id": "353a9dd8",
   "metadata": {},
   "outputs": [],
   "source": [
    "stopwords = stopwords.words('english')"
   ]
  },
  {
   "cell_type": "code",
   "execution_count": 21,
   "id": "e1ee81a6",
   "metadata": {},
   "outputs": [
    {
     "name": "stderr",
     "output_type": "stream",
     "text": [
      "[nltk_data] Downloading package wordnet to\n",
      "[nltk_data]     /Users/payalpamnani/nltk_data...\n",
      "[nltk_data]   Unzipping corpora/wordnet.zip.\n"
     ]
    },
    {
     "data": {
      "text/plain": [
       "True"
      ]
     },
     "execution_count": 21,
     "metadata": {},
     "output_type": "execute_result"
    }
   ],
   "source": [
    "nltk.download('wordnet')"
   ]
  },
  {
   "cell_type": "code",
   "execution_count": 22,
   "id": "40660591",
   "metadata": {},
   "outputs": [],
   "source": [
    "def cleaning_data(row):\n",
    "# convert text to into lower case\n",
    "    row = row.lower()\n",
    "# this line of code only take words from text and remove number and special character using RegX\n",
    "    row = re.sub('[^a-zA-Z]' , ' ' , row) \n",
    "# split the data and make token.\n",
    "    token = row.split()\n",
    "# lemmatize the word and remove stop words like a, an , the , is ,are ...\n",
    "    news = [ps.lemmatize(word) for word in token if not word in stopwords] \n",
    "# finaly join all the token with space\n",
    "    cleanned_news = ' '.join(news)\n",
    "# return cleanned data\n",
    "    return cleanned_news"
   ]
  },
  {
   "cell_type": "code",
   "execution_count": 23,
   "id": "c06490db",
   "metadata": {},
   "outputs": [
    {
     "data": {
      "text/plain": [
       "text     0\n",
       "label    0\n",
       "dtype: int64"
      ]
     },
     "execution_count": 23,
     "metadata": {},
     "output_type": "execute_result"
    }
   ],
   "source": [
    "dataset['text'] = dataset['text'].apply(lambda x : cleaning_data(x))\n",
    "dataset.isnull().sum()"
   ]
  },
  {
   "cell_type": "code",
   "execution_count": 24,
   "id": "09354549",
   "metadata": {},
   "outputs": [],
   "source": [
    "from sklearn.feature_extraction.text import TfidfVectorizer"
   ]
  },
  {
   "cell_type": "code",
   "execution_count": 25,
   "id": "19cd7a8e",
   "metadata": {},
   "outputs": [],
   "source": [
    "vectorizer = TfidfVectorizer(max_features = 50000 , lowercase=False , ngram_range=(1,2))"
   ]
  },
  {
   "cell_type": "code",
   "execution_count": 27,
   "id": "eea46eb7",
   "metadata": {},
   "outputs": [],
   "source": [
    "X = dataset.iloc[:35000,0]\n",
    "y = dataset.iloc[:35000,1]"
   ]
  },
  {
   "cell_type": "code",
   "execution_count": 28,
   "id": "1be5b280",
   "metadata": {},
   "outputs": [
    {
     "data": {
      "text/plain": [
       "4097     former kkk grand wizard david duke officially ...\n",
       "8216     los angeles county school board caused uproar ...\n",
       "9250     important protecting dignity customer shop loc...\n",
       "19407    schlotsky assistant manager seguin texas gave ...\n",
       "1188     former fbi director james comey fired position...\n",
       "Name: text, dtype: object"
      ]
     },
     "execution_count": 28,
     "metadata": {},
     "output_type": "execute_result"
    }
   ],
   "source": [
    "X.head()"
   ]
  },
  {
   "cell_type": "code",
   "execution_count": 29,
   "id": "826905ca",
   "metadata": {},
   "outputs": [
    {
     "data": {
      "text/plain": [
       "4097     1\n",
       "8216     1\n",
       "9250     1\n",
       "19407    1\n",
       "1188     1\n",
       "Name: label, dtype: int64"
      ]
     },
     "execution_count": 29,
     "metadata": {},
     "output_type": "execute_result"
    }
   ],
   "source": [
    "y.head()"
   ]
  },
  {
   "cell_type": "code",
   "execution_count": 30,
   "id": "2d8e0d71",
   "metadata": {},
   "outputs": [],
   "source": [
    "from sklearn.model_selection import train_test_split\n",
    "train_data , test_data , train_label , test_label = train_test_split(X , y , test_size = 0.2 ,random_state = 0)"
   ]
  },
  {
   "cell_type": "code",
   "execution_count": 31,
   "id": "23d6cddb",
   "metadata": {},
   "outputs": [],
   "source": [
    "vec_train_data = vectorizer.fit_transform(train_data) \n",
    "vec_train_data = vec_train_data.toarray()"
   ]
  },
  {
   "cell_type": "code",
   "execution_count": 32,
   "id": "811780fb",
   "metadata": {},
   "outputs": [],
   "source": [
    "vec_test_data = vectorizer.transform(test_data).toarray() "
   ]
  },
  {
   "cell_type": "code",
   "execution_count": 33,
   "id": "7fef7c21",
   "metadata": {},
   "outputs": [
    {
     "data": {
      "text/plain": [
       "((28000, 50000), (7000, 50000))"
      ]
     },
     "execution_count": 33,
     "metadata": {},
     "output_type": "execute_result"
    }
   ],
   "source": [
    "vec_train_data.shape , vec_test_data.shape"
   ]
  },
  {
   "cell_type": "code",
   "execution_count": 34,
   "id": "93274c49",
   "metadata": {},
   "outputs": [
    {
     "data": {
      "text/plain": [
       "1    14687\n",
       "0    13313\n",
       "Name: label, dtype: int64"
      ]
     },
     "execution_count": 34,
     "metadata": {},
     "output_type": "execute_result"
    }
   ],
   "source": [
    "train_label.value_counts() # balanced partition"
   ]
  },
  {
   "cell_type": "code",
   "execution_count": 35,
   "id": "a420009b",
   "metadata": {},
   "outputs": [
    {
     "data": {
      "text/plain": [
       "1    3667\n",
       "0    3333\n",
       "Name: label, dtype: int64"
      ]
     },
     "execution_count": 35,
     "metadata": {},
     "output_type": "execute_result"
    }
   ],
   "source": [
    "test_label.value_counts() # balanced partition"
   ]
  },
  {
   "cell_type": "code",
   "execution_count": 36,
   "id": "9ed49795",
   "metadata": {},
   "outputs": [],
   "source": [
    "training_data = pd.DataFrame(vec_train_data , columns=vectorizer.get_feature_names())\n",
    "testing_data = pd.DataFrame(vec_test_data , columns= vectorizer.get_feature_names())"
   ]
  },
  {
   "cell_type": "code",
   "execution_count": 37,
   "id": "7a34b89b",
   "metadata": {},
   "outputs": [],
   "source": [
    "from sklearn.naive_bayes import MultinomialNB\n",
    "from sklearn.metrics import accuracy_score,classification_report \n",
    "clf = MultinomialNB()"
   ]
  },
  {
   "cell_type": "code",
   "execution_count": 39,
   "id": "f1efde48",
   "metadata": {},
   "outputs": [],
   "source": [
    "clf.fit(training_data, train_label) \n",
    "y_pred = clf.predict(testing_data) "
   ]
  },
  {
   "cell_type": "code",
   "execution_count": 40,
   "id": "0d0805e0",
   "metadata": {},
   "outputs": [
    {
     "data": {
      "text/plain": [
       "1    3713\n",
       "0    3287\n",
       "dtype: int64"
      ]
     },
     "execution_count": 40,
     "metadata": {},
     "output_type": "execute_result"
    }
   ],
   "source": [
    "pd.Series(y_pred).value_counts()"
   ]
  },
  {
   "cell_type": "code",
   "execution_count": 41,
   "id": "2b6092b6",
   "metadata": {},
   "outputs": [
    {
     "data": {
      "text/plain": [
       "1    3667\n",
       "0    3333\n",
       "Name: label, dtype: int64"
      ]
     },
     "execution_count": 41,
     "metadata": {},
     "output_type": "execute_result"
    }
   ],
   "source": [
    "test_label.value_counts()"
   ]
  },
  {
   "cell_type": "code",
   "execution_count": 42,
   "id": "ced42291",
   "metadata": {},
   "outputs": [
    {
     "name": "stdout",
     "output_type": "stream",
     "text": [
      "              precision    recall  f1-score   support\n",
      "\n",
      "           0       0.96      0.94      0.95      3333\n",
      "           1       0.95      0.96      0.95      3667\n",
      "\n",
      "    accuracy                           0.95      7000\n",
      "   macro avg       0.95      0.95      0.95      7000\n",
      "weighted avg       0.95      0.95      0.95      7000\n",
      "\n"
     ]
    }
   ],
   "source": [
    "print(classification_report(test_label , y_pred))"
   ]
  },
  {
   "cell_type": "code",
   "execution_count": 43,
   "id": "4e5372a0",
   "metadata": {},
   "outputs": [
    {
     "name": "stdout",
     "output_type": "stream",
     "text": [
      "              precision    recall  f1-score   support\n",
      "\n",
      "           0       0.96      0.95      0.96     13313\n",
      "           1       0.96      0.96      0.96     14687\n",
      "\n",
      "    accuracy                           0.96     28000\n",
      "   macro avg       0.96      0.96      0.96     28000\n",
      "weighted avg       0.96      0.96      0.96     28000\n",
      "\n"
     ]
    }
   ],
   "source": [
    "y_pred_train = clf.predict(training_data) \n",
    "print(classification_report(train_label , y_pred_train))"
   ]
  },
  {
   "cell_type": "code",
   "execution_count": 44,
   "id": "73b77d89",
   "metadata": {},
   "outputs": [
    {
     "data": {
      "text/plain": [
       "0.95875"
      ]
     },
     "execution_count": 44,
     "metadata": {},
     "output_type": "execute_result"
    }
   ],
   "source": [
    "accuracy_score(train_label , y_pred_train)"
   ]
  },
  {
   "cell_type": "code",
   "execution_count": 45,
   "id": "1282ca30",
   "metadata": {},
   "outputs": [
    {
     "data": {
      "text/plain": [
       "0.9522857142857143"
      ]
     },
     "execution_count": 45,
     "metadata": {},
     "output_type": "execute_result"
    }
   ],
   "source": [
    "accuracy_score(test_label , y_pred)"
   ]
  },
  {
   "cell_type": "code",
   "execution_count": 46,
   "id": "e956491f",
   "metadata": {},
   "outputs": [],
   "source": [
    "news = cleaning_data(str(\"CHICAGO (Reuters) - An Illinois lawmaker on Monday introduced a bill to ban the forcible removal of travelers from flights by state or local government employees after a United Airlines passenger was dragged from an aircraft last week. The Airline Passenger Protection Act, sponsored by Republican state Representative Peter Breen, came after Dr. David Dao, 69, was pulled from a United flight at Chicagoâ€TMs Oâ€TMHare International Airport to make space for four crew members. The treatment of Dao sparked international outrage, as well as multiple apologies from the carrier, and raised questions about the overbooking policies of airlines. Under Breenâ€TMs measure, passengers could not be removed from flights unless they were presenting a danger to themselves or others, an emergency was taking place or the passenger had caused a serious disturbance, according to a copy of the bill introduced in the state capital, Springfield. â€œA commercial airline that removes validly seated customers without serious cause breaches the sacred trust between passengers and their airlines,â€• the bill said. The legislation would also bar the state of Illinois from making travel arrangements, doing business with or having investments in any commercial airline that maintained a policy of removing paying passengers to make room for employees traveling on non-revenue tickets. Dao, who was traveling to Louisville, Kentucky, on April 9, suffered a broken nose, a concussion and lost two teeth when he was pulled from his seat by officers from the Chicago Department of Aviation to make room for four employees on the overbooked flight. The three officers, who have not been named, were put on paid leave last week, the department said. â€œThe treatment of the passenger in last weekâ€TMs incident at Oâ€TMHare is inexcusable and must be stopped,â€• Breen said in a statement. â€œIt reflected badly on the airline, the City of Chicago, and the State of Illinois.â€• United Chief Executive Oscar Munoz on Monday again apologized for the incident. [nL1N1HP1HM] United said on Friday itwas changing its policy on booking its flight crews onto its own planes. Thecompany did not immediately respond to a request for comment on the Illinoisbill. Lawyers for Dao have moved to preserve evidence from the flight, filing amotion to keep surveillance videos and other materials related to United Flight3411 in preparation for a possible lawsuit.  The city and United agreed topreserve the evidence, Daoâ€TMs attorney said on Saturday. \"))"
   ]
  },
  {
   "cell_type": "code",
   "execution_count": 47,
   "id": "5c416430",
   "metadata": {},
   "outputs": [
    {
     "data": {
      "text/plain": [
       "array([0])"
      ]
     },
     "execution_count": 47,
     "metadata": {},
     "output_type": "execute_result"
    }
   ],
   "source": [
    "single_prediction = clf.predict(vectorizer.transform([news]).toarray()) \n",
    "single_prediction"
   ]
  },
  {
   "cell_type": "code",
   "execution_count": null,
   "id": "14088382",
   "metadata": {},
   "outputs": [],
   "source": []
  }
 ],
 "metadata": {
  "kernelspec": {
   "display_name": "Python 3",
   "language": "python",
   "name": "python3"
  },
  "language_info": {
   "codemirror_mode": {
    "name": "ipython",
    "version": 3
   },
   "file_extension": ".py",
   "mimetype": "text/x-python",
   "name": "python",
   "nbconvert_exporter": "python",
   "pygments_lexer": "ipython3",
   "version": "3.8.8"
  }
 },
 "nbformat": 4,
 "nbformat_minor": 5
}
